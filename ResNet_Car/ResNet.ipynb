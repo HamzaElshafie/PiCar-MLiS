{
  "nbformat": 4,
  "nbformat_minor": 0,
  "metadata": {
    "colab": {
      "provenance": [],
      "gpuType": "V100",
      "machine_shape": "hm",
      "authorship_tag": "ABX9TyN+rCFrxptS5wGKqd83uaBO",
      "include_colab_link": true
    },
    "kernelspec": {
      "name": "python3",
      "display_name": "Python 3"
    },
    "language_info": {
      "name": "python"
    },
    "accelerator": "GPU"
  },
  "cells": [
    {
      "cell_type": "markdown",
      "metadata": {
        "id": "view-in-github",
        "colab_type": "text"
      },
      "source": [
        "<a href=\"https://colab.research.google.com/github/HamzaElshafie/PiCar_MLiS/blob/master/ResNet_Car/ResNet.ipynb\" target=\"_parent\"><img src=\"https://colab.research.google.com/assets/colab-badge.svg\" alt=\"Open In Colab\"/></a>"
      ]
    },
    {
      "cell_type": "code",
      "source": [
        "from google.colab import drive\n",
        "drive.mount('/content/drive')"
      ],
      "metadata": {
        "colab": {
          "base_uri": "https://localhost:8080/"
        },
        "id": "sQ5BVls_pIxQ",
        "outputId": "af5d1d05-14ca-4dc0-c412-5eb32d075970"
      },
      "execution_count": null,
      "outputs": [
        {
          "output_type": "stream",
          "name": "stdout",
          "text": [
            "Mounted at /content/drive\n"
          ]
        }
      ]
    },
    {
      "cell_type": "code",
      "source": [
        "!unzip \"/content/drive/My Drive/MLiS_Car/training_data.zip\" -d \"/content/unzip\""
      ],
      "metadata": {
        "id": "HybO3fzQ89T9"
      },
      "execution_count": null,
      "outputs": []
    },
    {
      "cell_type": "code",
      "source": [
        "!cp \"/content/drive/My Drive/MLiS_Car/training_norm.csv\" \"/content/\""
      ],
      "metadata": {
        "id": "fB9qiFso9_7A"
      },
      "execution_count": null,
      "outputs": []
    },
    {
      "cell_type": "code",
      "execution_count": null,
      "metadata": {
        "id": "QvESizmyZ_6S"
      },
      "outputs": [],
      "source": [
        "import os\n",
        "import numpy as np\n",
        "import pandas as pd\n",
        "import tensorflow as tf\n",
        "from sklearn.model_selection import train_test_split\n",
        "from tensorflow.keras.callbacks import ModelCheckpoint\n",
        "from tensorflow.keras.layers import BatchNormalization, Layer\n",
        "from tensorflow.keras.optimizers import Adam\n",
        "from tensorflow.keras import layers\n",
        "import multiprocessing\n",
        "from tensorflow.keras.layers import Layer\n",
        "from tensorflow.keras.applications import ResNet50"
      ]
    },
    {
      "cell_type": "code",
      "source": [
        "# Check GPU availability\n",
        "print(\"GPU Available:\", tf.test.is_gpu_available())\n",
        "\n",
        "# Check TPU availability\n",
        "tpu_available = False\n",
        "devices = tf.config.list_logical_devices()\n",
        "for device in devices:\n",
        "    if device.device_type == 'TPU':\n",
        "        tpu_available = True\n",
        "        break\n",
        "\n",
        "print(\"TPU Available:\", tpu_available)"
      ],
      "metadata": {
        "colab": {
          "base_uri": "https://localhost:8080/"
        },
        "id": "Crv4gDBL7kCq",
        "outputId": "166e1aa8-0ee8-4f6b-8129-8dbed6b8f8cc"
      },
      "execution_count": null,
      "outputs": [
        {
          "output_type": "stream",
          "name": "stderr",
          "text": [
            "WARNING:tensorflow:From <ipython-input-5-d15678b8a531>:2: is_gpu_available (from tensorflow.python.framework.test_util) is deprecated and will be removed in a future version.\n",
            "Instructions for updating:\n",
            "Use `tf.config.list_physical_devices('GPU')` instead.\n"
          ]
        },
        {
          "output_type": "stream",
          "name": "stdout",
          "text": [
            "GPU Available: True\n",
            "TPU Available: False\n"
          ]
        }
      ]
    },
    {
      "cell_type": "code",
      "source": [
        "class CustomDataGenerator(tf.keras.utils.Sequence):\n",
        "    def __init__(self, targets, root_dir_original, batch_size=32, image_shape=(224, 224, 3), shuffle=True):\n",
        "        self.targets = targets\n",
        "        self.root_dir_original = root_dir_original\n",
        "        self.batch_size = batch_size\n",
        "        self.image_shape = image_shape\n",
        "        self.shuffle = shuffle\n",
        "        self.on_epoch_end()\n",
        "\n",
        "    def __len__(self):\n",
        "        return len(self.targets) // self.batch_size\n",
        "\n",
        "    def __getitem__(self, index):\n",
        "        indexes = self.indexes[index * self.batch_size: (index + 1) * self.batch_size]\n",
        "        X, y = self.__data_generation(indexes)\n",
        "        return X, y\n",
        "\n",
        "    def on_epoch_end(self):\n",
        "        self.indexes = np.arange(len(self.targets))\n",
        "        if self.shuffle:\n",
        "            np.random.shuffle(self.indexes)\n",
        "\n",
        "    def __data_generation(self, indexes):\n",
        "        X = np.empty((len(indexes), *self.image_shape))\n",
        "        y = np.empty((len(indexes), 2))\n",
        "\n",
        "        for i, index in enumerate(indexes):\n",
        "            img_name = os.path.join(self.root_dir_original, str(int(self.targets.iloc[index]['image_id'])) + '.png')\n",
        "            img = tf.keras.preprocessing.image.load_img(img_name, target_size=self.image_shape)\n",
        "            img_array = tf.keras.preprocessing.image.img_to_array(img) / 255.0\n",
        "            X[i,] = img_array\n",
        "\n",
        "            angle = self.targets.iloc[index]['angle']\n",
        "            speed = self.targets.iloc[index]['speed']\n",
        "            y[i,] = [angle, speed]\n",
        "\n",
        "        return X, y"
      ],
      "metadata": {
        "id": "cobYBd_Jd9cV"
      },
      "execution_count": null,
      "outputs": []
    },
    {
      "cell_type": "code",
      "source": [
        "# Load your data\n",
        "targets_csv = '/content/training_norm.csv'  # Replace with the correct CSV file\n",
        "root_dir_original = '/content/unzip/training_data/'\n",
        "\n",
        "# Load targets\n",
        "targets = pd.read_csv(targets_csv)\n",
        "\n",
        "# Split the dataset\n",
        "train_targets, test_val_targets = train_test_split(targets, test_size=0.3, random_state=42)\n",
        "val_targets, test_targets = train_test_split(test_val_targets, test_size=0.5, random_state=42)\n",
        "\n",
        "# Create data generators for training, validation, and test sets\n",
        "train_dataset = CustomDataGenerator(targets=train_targets, root_dir_original=root_dir_original)\n",
        "val_dataset = CustomDataGenerator(targets=val_targets, root_dir_original=root_dir_original)\n",
        "test_dataset = CustomDataGenerator(targets=test_targets, root_dir_original=root_dir_original)"
      ],
      "metadata": {
        "id": "PcmxILG-d_Gl"
      },
      "execution_count": null,
      "outputs": []
    },
    {
      "cell_type": "code",
      "source": [
        "# Load pre-trained ResNet50 model without top layers\n",
        "base_model = ResNet50(include_top=False, weights='imagenet', input_shape=(224, 224, 3))\n",
        "\n",
        "# Dont Freeze the base model layers\n",
        "base_model.trainable = True\n",
        "\n",
        "# Define the model with ReLU activation for the output layer\n",
        "inputs = tf.keras.Input(shape=(224, 224, 3))\n",
        "x = base_model(inputs, training=True)\n",
        "x = tf.keras.layers.GlobalAveragePooling2D()(x)\n",
        "x = tf.keras.layers.Dropout(0.3)(x)\n",
        "x = tf.keras.layers.Dense(64, activation='relu', kernel_regularizer='l2')(x)\n",
        "combined_output = tf.keras.layers.Dense(2, activation='linear', name='combined_output')(x)\n",
        "\n",
        "# Define the model\n",
        "model = tf.keras.Model(inputs, combined_output)"
      ],
      "metadata": {
        "id": "Q_riGjQmeybe",
        "colab": {
          "base_uri": "https://localhost:8080/"
        },
        "outputId": "b422d1e7-b7ce-4c50-d783-29080c893230"
      },
      "execution_count": null,
      "outputs": [
        {
          "output_type": "stream",
          "name": "stdout",
          "text": [
            "Downloading data from https://storage.googleapis.com/tensorflow/keras-applications/resnet/resnet50_weights_tf_dim_ordering_tf_kernels_notop.h5\n",
            "94765736/94765736 [==============================] - 2s 0us/step\n"
          ]
        }
      ]
    },
    {
      "cell_type": "code",
      "source": [
        "# Compile the model\n",
        "model.compile(optimizer=tf.keras.optimizers.Adam(learning_rate=0.0001), loss=tf.keras.losses.MeanSquaredError())"
      ],
      "metadata": {
        "id": "Kps22_VRe1sQ"
      },
      "execution_count": null,
      "outputs": []
    },
    {
      "cell_type": "code",
      "source": [
        "# Define ModelCheckpoint callback\n",
        "checkpoint_filepath = '/content/drive/My Drive/MLiS_Car/ResNet_50e'\n",
        "model_checkpoint = ModelCheckpoint(\n",
        "    filepath=checkpoint_filepath,\n",
        "    save_weights_only=False,\n",
        "    save_best_only=True,\n",
        "    monitor='val_loss',\n",
        "    mode='min',\n",
        "    verbose=1\n",
        ")\n",
        "\n",
        "# Training loop\n",
        "history = model.fit(\n",
        "    train_dataset,\n",
        "    validation_data=val_dataset,\n",
        "    epochs=50,\n",
        "    callbacks=[model_checkpoint]  # Include the ModelCheckpoint callback\n",
        ")"
      ],
      "metadata": {
        "id": "dnNAngN2e5kH",
        "colab": {
          "base_uri": "https://localhost:8080/"
        },
        "outputId": "18a7233c-0b89-4739-d985-f19b840849fd"
      },
      "execution_count": null,
      "outputs": [
        {
          "output_type": "stream",
          "name": "stdout",
          "text": [
            "Epoch 1/50\n",
            "301/301 [==============================] - ETA: 0s - loss: 1.2476\n",
            "Epoch 1: val_loss improved from inf to 1.04381, saving model to /content/drive/My Drive/MLiS_Car/ResNet_50e\n",
            "301/301 [==============================] - 114s 249ms/step - loss: 1.2476 - val_loss: 1.0438\n",
            "Epoch 2/50\n",
            "301/301 [==============================] - ETA: 0s - loss: 0.9027\n",
            "Epoch 2: val_loss improved from 1.04381 to 0.76231, saving model to /content/drive/My Drive/MLiS_Car/ResNet_50e\n",
            "301/301 [==============================] - 72s 240ms/step - loss: 0.9027 - val_loss: 0.7623\n",
            "Epoch 3/50\n",
            "301/301 [==============================] - ETA: 0s - loss: 0.6424\n",
            "Epoch 3: val_loss improved from 0.76231 to 0.53013, saving model to /content/drive/My Drive/MLiS_Car/ResNet_50e\n",
            "301/301 [==============================] - 69s 229ms/step - loss: 0.6424 - val_loss: 0.5301\n",
            "Epoch 4/50\n",
            "301/301 [==============================] - ETA: 0s - loss: 0.4353\n",
            "Epoch 4: val_loss improved from 0.53013 to 0.35322, saving model to /content/drive/My Drive/MLiS_Car/ResNet_50e\n",
            "301/301 [==============================] - 69s 228ms/step - loss: 0.4353 - val_loss: 0.3532\n",
            "Epoch 5/50\n",
            "301/301 [==============================] - ETA: 0s - loss: 0.2840\n",
            "Epoch 5: val_loss improved from 0.35322 to 0.22688, saving model to /content/drive/My Drive/MLiS_Car/ResNet_50e\n",
            "301/301 [==============================] - 68s 225ms/step - loss: 0.2840 - val_loss: 0.2269\n",
            "Epoch 6/50\n",
            "301/301 [==============================] - ETA: 0s - loss: 0.1788\n",
            "Epoch 6: val_loss improved from 0.22688 to 0.14272, saving model to /content/drive/My Drive/MLiS_Car/ResNet_50e\n",
            "301/301 [==============================] - 68s 227ms/step - loss: 0.1788 - val_loss: 0.1427\n",
            "Epoch 7/50\n",
            "301/301 [==============================] - ETA: 0s - loss: 0.1092\n",
            "Epoch 7: val_loss improved from 0.14272 to 0.08733, saving model to /content/drive/My Drive/MLiS_Car/ResNet_50e\n",
            "301/301 [==============================] - 70s 233ms/step - loss: 0.1092 - val_loss: 0.0873\n",
            "Epoch 8/50\n",
            "301/301 [==============================] - ETA: 0s - loss: 0.0648\n",
            "Epoch 8: val_loss improved from 0.08733 to 0.05296, saving model to /content/drive/My Drive/MLiS_Car/ResNet_50e\n",
            "301/301 [==============================] - 67s 224ms/step - loss: 0.0648 - val_loss: 0.0530\n",
            "Epoch 9/50\n",
            "301/301 [==============================] - ETA: 0s - loss: 0.0376\n",
            "Epoch 9: val_loss improved from 0.05296 to 0.03201, saving model to /content/drive/My Drive/MLiS_Car/ResNet_50e\n",
            "301/301 [==============================] - 70s 233ms/step - loss: 0.0376 - val_loss: 0.0320\n",
            "Epoch 10/50\n",
            "301/301 [==============================] - ETA: 0s - loss: 0.0217\n",
            "Epoch 10: val_loss improved from 0.03201 to 0.02077, saving model to /content/drive/My Drive/MLiS_Car/ResNet_50e\n",
            "301/301 [==============================] - 67s 223ms/step - loss: 0.0217 - val_loss: 0.0208\n",
            "Epoch 11/50\n",
            "301/301 [==============================] - ETA: 0s - loss: 0.0129\n",
            "Epoch 11: val_loss improved from 0.02077 to 0.01372, saving model to /content/drive/My Drive/MLiS_Car/ResNet_50e\n",
            "301/301 [==============================] - 71s 236ms/step - loss: 0.0129 - val_loss: 0.0137\n",
            "Epoch 12/50\n",
            "301/301 [==============================] - ETA: 0s - loss: 0.0079\n",
            "Epoch 12: val_loss improved from 0.01372 to 0.01116, saving model to /content/drive/My Drive/MLiS_Car/ResNet_50e\n",
            "301/301 [==============================] - 68s 227ms/step - loss: 0.0079 - val_loss: 0.0112\n",
            "Epoch 13/50\n",
            "301/301 [==============================] - ETA: 0s - loss: 0.0056\n",
            "Epoch 13: val_loss improved from 0.01116 to 0.00978, saving model to /content/drive/My Drive/MLiS_Car/ResNet_50e\n",
            "301/301 [==============================] - 71s 237ms/step - loss: 0.0056 - val_loss: 0.0098\n",
            "Epoch 14/50\n",
            "301/301 [==============================] - ETA: 0s - loss: 0.0046\n",
            "Epoch 14: val_loss did not improve from 0.00978\n",
            "301/301 [==============================] - 44s 146ms/step - loss: 0.0046 - val_loss: 0.0098\n",
            "Epoch 15/50\n",
            "301/301 [==============================] - ETA: 0s - loss: 0.0040\n",
            "Epoch 15: val_loss improved from 0.00978 to 0.00785, saving model to /content/drive/My Drive/MLiS_Car/ResNet_50e\n",
            "301/301 [==============================] - 70s 231ms/step - loss: 0.0040 - val_loss: 0.0078\n",
            "Epoch 16/50\n",
            "301/301 [==============================] - ETA: 0s - loss: 0.0046\n",
            "Epoch 16: val_loss did not improve from 0.00785\n",
            "301/301 [==============================] - 45s 148ms/step - loss: 0.0046 - val_loss: 0.0101\n",
            "Epoch 17/50\n",
            "301/301 [==============================] - ETA: 0s - loss: 0.0053\n",
            "Epoch 17: val_loss did not improve from 0.00785\n",
            "301/301 [==============================] - 43s 144ms/step - loss: 0.0053 - val_loss: 0.0089\n",
            "Epoch 18/50\n",
            "301/301 [==============================] - ETA: 0s - loss: 0.0035\n",
            "Epoch 18: val_loss did not improve from 0.00785\n",
            "301/301 [==============================] - 44s 147ms/step - loss: 0.0035 - val_loss: 0.0090\n",
            "Epoch 19/50\n",
            "301/301 [==============================] - ETA: 0s - loss: 0.0031\n",
            "Epoch 19: val_loss improved from 0.00785 to 0.00745, saving model to /content/drive/My Drive/MLiS_Car/ResNet_50e\n",
            "301/301 [==============================] - 68s 226ms/step - loss: 0.0031 - val_loss: 0.0075\n",
            "Epoch 20/50\n",
            "301/301 [==============================] - ETA: 0s - loss: 0.0027\n",
            "Epoch 20: val_loss did not improve from 0.00745\n",
            "301/301 [==============================] - 45s 148ms/step - loss: 0.0027 - val_loss: 0.0077\n",
            "Epoch 21/50\n",
            "301/301 [==============================] - ETA: 0s - loss: 0.0024\n",
            "Epoch 21: val_loss improved from 0.00745 to 0.00734, saving model to /content/drive/My Drive/MLiS_Car/ResNet_50e\n",
            "301/301 [==============================] - 68s 227ms/step - loss: 0.0024 - val_loss: 0.0073\n",
            "Epoch 22/50\n",
            "301/301 [==============================] - ETA: 0s - loss: 0.0025\n",
            "Epoch 22: val_loss did not improve from 0.00734\n",
            "301/301 [==============================] - 45s 151ms/step - loss: 0.0025 - val_loss: 0.0100\n",
            "Epoch 23/50\n",
            "301/301 [==============================] - ETA: 0s - loss: 0.0050\n",
            "Epoch 23: val_loss did not improve from 0.00734\n",
            "301/301 [==============================] - 44s 145ms/step - loss: 0.0050 - val_loss: 0.0098\n",
            "Epoch 24/50\n",
            "301/301 [==============================] - ETA: 0s - loss: 0.0046\n",
            "Epoch 24: val_loss did not improve from 0.00734\n",
            "301/301 [==============================] - 45s 149ms/step - loss: 0.0046 - val_loss: 0.0092\n",
            "Epoch 25/50\n",
            "301/301 [==============================] - ETA: 0s - loss: 0.0040\n",
            "Epoch 25: val_loss did not improve from 0.00734\n",
            "301/301 [==============================] - 44s 146ms/step - loss: 0.0040 - val_loss: 0.0098\n",
            "Epoch 26/50\n",
            "301/301 [==============================] - ETA: 0s - loss: 0.0031\n",
            "Epoch 26: val_loss did not improve from 0.00734\n",
            "301/301 [==============================] - 47s 155ms/step - loss: 0.0031 - val_loss: 0.0085\n",
            "Epoch 27/50\n",
            "301/301 [==============================] - ETA: 0s - loss: 0.0025\n",
            "Epoch 27: val_loss did not improve from 0.00734\n",
            "301/301 [==============================] - 45s 150ms/step - loss: 0.0025 - val_loss: 0.0080\n",
            "Epoch 28/50\n",
            "301/301 [==============================] - ETA: 0s - loss: 0.0021\n",
            "Epoch 28: val_loss did not improve from 0.00734\n",
            "301/301 [==============================] - 45s 148ms/step - loss: 0.0021 - val_loss: 0.0076\n",
            "Epoch 29/50\n",
            "301/301 [==============================] - ETA: 0s - loss: 0.0018\n",
            "Epoch 29: val_loss did not improve from 0.00734\n",
            "301/301 [==============================] - 46s 153ms/step - loss: 0.0018 - val_loss: 0.0077\n",
            "Epoch 30/50\n",
            "301/301 [==============================] - ETA: 0s - loss: 0.0016\n",
            "Epoch 30: val_loss improved from 0.00734 to 0.00657, saving model to /content/drive/My Drive/MLiS_Car/ResNet_50e\n",
            "301/301 [==============================] - 69s 229ms/step - loss: 0.0016 - val_loss: 0.0066\n",
            "Epoch 31/50\n",
            "301/301 [==============================] - ETA: 0s - loss: 0.0014\n",
            "Epoch 31: val_loss did not improve from 0.00657\n",
            "301/301 [==============================] - 45s 150ms/step - loss: 0.0014 - val_loss: 0.0067\n",
            "Epoch 32/50\n",
            "301/301 [==============================] - ETA: 0s - loss: 0.0014\n",
            "Epoch 32: val_loss improved from 0.00657 to 0.00634, saving model to /content/drive/My Drive/MLiS_Car/ResNet_50e\n",
            "301/301 [==============================] - 69s 228ms/step - loss: 0.0014 - val_loss: 0.0063\n",
            "Epoch 33/50\n",
            "301/301 [==============================] - ETA: 0s - loss: 0.0013\n",
            "Epoch 33: val_loss did not improve from 0.00634\n",
            "301/301 [==============================] - 47s 155ms/step - loss: 0.0013 - val_loss: 0.0065\n",
            "Epoch 34/50\n",
            "301/301 [==============================] - ETA: 0s - loss: 0.0014\n",
            "Epoch 34: val_loss did not improve from 0.00634\n",
            "301/301 [==============================] - 45s 149ms/step - loss: 0.0014 - val_loss: 0.0067\n",
            "Epoch 35/50\n",
            "301/301 [==============================] - ETA: 0s - loss: 0.0012\n",
            "Epoch 35: val_loss improved from 0.00634 to 0.00614, saving model to /content/drive/My Drive/MLiS_Car/ResNet_50e\n",
            "301/301 [==============================] - 70s 232ms/step - loss: 0.0012 - val_loss: 0.0061\n",
            "Epoch 36/50\n",
            "301/301 [==============================] - ETA: 0s - loss: 0.0012\n",
            "Epoch 36: val_loss did not improve from 0.00614\n",
            "301/301 [==============================] - 46s 152ms/step - loss: 0.0012 - val_loss: 0.0066\n",
            "Epoch 37/50\n",
            "301/301 [==============================] - ETA: 0s - loss: 0.0012\n",
            "Epoch 37: val_loss did not improve from 0.00614\n",
            "301/301 [==============================] - 49s 164ms/step - loss: 0.0012 - val_loss: 0.0067\n",
            "Epoch 38/50\n",
            "301/301 [==============================] - ETA: 0s - loss: 0.0014\n",
            "Epoch 38: val_loss did not improve from 0.00614\n",
            "301/301 [==============================] - 47s 157ms/step - loss: 0.0014 - val_loss: 0.0066\n",
            "Epoch 39/50\n",
            "301/301 [==============================] - ETA: 0s - loss: 0.0073\n",
            "Epoch 39: val_loss did not improve from 0.00614\n",
            "301/301 [==============================] - 47s 156ms/step - loss: 0.0073 - val_loss: 0.0099\n",
            "Epoch 40/50\n",
            "301/301 [==============================] - ETA: 0s - loss: 0.0050\n",
            "Epoch 40: val_loss did not improve from 0.00614\n",
            "301/301 [==============================] - 48s 158ms/step - loss: 0.0050 - val_loss: 0.0083\n",
            "Epoch 41/50\n",
            "301/301 [==============================] - ETA: 0s - loss: 0.0034\n",
            "Epoch 41: val_loss did not improve from 0.00614\n",
            "301/301 [==============================] - 46s 153ms/step - loss: 0.0034 - val_loss: 0.0072\n",
            "Epoch 42/50\n",
            "301/301 [==============================] - ETA: 0s - loss: 0.0029\n",
            "Epoch 42: val_loss did not improve from 0.00614\n",
            "301/301 [==============================] - 48s 159ms/step - loss: 0.0029 - val_loss: 0.0083\n",
            "Epoch 43/50\n",
            "301/301 [==============================] - ETA: 0s - loss: 0.0018\n",
            "Epoch 43: val_loss did not improve from 0.00614\n",
            "301/301 [==============================] - 47s 156ms/step - loss: 0.0018 - val_loss: 0.0075\n",
            "Epoch 44/50\n",
            "301/301 [==============================] - ETA: 0s - loss: 0.0013\n",
            "Epoch 44: val_loss did not improve from 0.00614\n",
            "301/301 [==============================] - 49s 162ms/step - loss: 0.0013 - val_loss: 0.0068\n",
            "Epoch 45/50\n",
            "301/301 [==============================] - ETA: 0s - loss: 0.0024\n",
            "Epoch 45: val_loss did not improve from 0.00614\n",
            "301/301 [==============================] - 47s 157ms/step - loss: 0.0024 - val_loss: 0.0073\n",
            "Epoch 46/50\n",
            "301/301 [==============================] - ETA: 0s - loss: 0.0024\n",
            "Epoch 46: val_loss did not improve from 0.00614\n",
            "301/301 [==============================] - 47s 156ms/step - loss: 0.0024 - val_loss: 0.0079\n",
            "Epoch 47/50\n",
            "301/301 [==============================] - ETA: 0s - loss: 0.0017\n",
            "Epoch 47: val_loss did not improve from 0.00614\n",
            "301/301 [==============================] - 47s 156ms/step - loss: 0.0017 - val_loss: 0.0079\n",
            "Epoch 48/50\n",
            "301/301 [==============================] - ETA: 0s - loss: 0.0016\n",
            "Epoch 48: val_loss did not improve from 0.00614\n",
            "301/301 [==============================] - 47s 157ms/step - loss: 0.0016 - val_loss: 0.0072\n",
            "Epoch 49/50\n",
            "301/301 [==============================] - ETA: 0s - loss: 0.0017\n",
            "Epoch 49: val_loss did not improve from 0.00614\n",
            "301/301 [==============================] - 48s 158ms/step - loss: 0.0017 - val_loss: 0.0076\n",
            "Epoch 50/50\n",
            "301/301 [==============================] - ETA: 0s - loss: 0.0012\n",
            "Epoch 50: val_loss did not improve from 0.00614\n",
            "301/301 [==============================] - 49s 161ms/step - loss: 0.0012 - val_loss: 0.0065\n"
          ]
        }
      ]
    },
    {
      "cell_type": "markdown",
      "source": [
        "**TFLite Model Conversion**"
      ],
      "metadata": {
        "id": "DlTHHuCzfNRr"
      }
    },
    {
      "cell_type": "code",
      "source": [
        "# best_model = tf.keras.models.load_model(checkpoint_filepath)\n",
        "\n",
        "best_model = tf.keras.models.load_model('/content/drive/My Drive/MLiS_Car/ResNet_50e')"
      ],
      "metadata": {
        "id": "d4UqkB4nfJsc"
      },
      "execution_count": null,
      "outputs": []
    },
    {
      "cell_type": "code",
      "source": [
        "# Evaluate on the test set\n",
        "best_model.evaluate(test_dataset)\n",
        "\n",
        "print('Finished Training')"
      ],
      "metadata": {
        "id": "7Ifs98auhVO4",
        "colab": {
          "base_uri": "https://localhost:8080/"
        },
        "outputId": "0caad511-cc02-426c-a978-f42fc3f978c8"
      },
      "execution_count": null,
      "outputs": [
        {
          "output_type": "stream",
          "name": "stdout",
          "text": [
            "64/64 [==============================] - 10s 126ms/step - loss: 0.0086\n",
            "Finished Training\n"
          ]
        }
      ]
    },
    {
      "cell_type": "code",
      "source": [
        "# Set up the TFLite converter\n",
        "converter = tf.lite.TFLiteConverter.from_keras_model(best_model)\n",
        "\n",
        "# Enable specific conversion options to improve compatibility\n",
        "converter.target_spec.supported_ops = [\n",
        "    tf.lite.OpsSet.TFLITE_BUILTINS,  # Enable TensorFlow Lite ops.\n",
        "    tf.lite.OpsSet.SELECT_TF_OPS  # Allow TensorFlow ops.\n",
        "]\n",
        "\n",
        "# Convert the model\n",
        "tflite_model = converter.convert()\n",
        "\n",
        "path_to_save = '/content/drive/My Drive/MLiS_Car/best_res.tflite'\n",
        "with open(path_to_save, 'wb') as f:\n",
        "    f.write(tflite_model)"
      ],
      "metadata": {
        "id": "XR13DzewEswj"
      },
      "execution_count": null,
      "outputs": []
    }
  ]
}